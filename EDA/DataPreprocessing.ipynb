{
 "cells": [
  {
   "cell_type": "markdown",
   "metadata": {},
   "source": [
    "# EDA - Data Preprocessing"
   ]
  },
  {
   "cell_type": "code",
   "execution_count": 7,
   "metadata": {},
   "outputs": [],
   "source": [
    "# import the necessary libraries \n",
    "import duckdb\n",
    "import pandas as pd"
   ]
  },
  {
   "cell_type": "code",
   "execution_count": 10,
   "metadata": {},
   "outputs": [
    {
     "data": {
      "text/plain": [
       "<duckdb.duckdb.DuckDBPyConnection at 0x25afb0ea9f0>"
      ]
     },
     "execution_count": 10,
     "metadata": {},
     "output_type": "execute_result"
    }
   ],
   "source": [
    "# Load csv to DuckDB\n",
    "\n",
    "# Connect to a DuckDB database file (this will create 'my_database.duckdb' if it doesn't exist)\n",
    "conn = duckdb.connect('../Instance/water.duckdb')\n",
    "\n",
    "conn.execute(\n",
    "    \"\"\"\n",
    "    CREATE TABLE IF NOT EXISTS water_data AS \n",
    "    SELECT * FROM read_csv_auto('../Data/global_water_consumption.csv')\n",
    "    \"\"\"\n",
    ")"
   ]
  },
  {
   "cell_type": "code",
   "execution_count": 11,
   "metadata": {},
   "outputs": [
    {
     "data": {
      "text/html": [
       "<div>\n",
       "<style scoped>\n",
       "    .dataframe tbody tr th:only-of-type {\n",
       "        vertical-align: middle;\n",
       "    }\n",
       "\n",
       "    .dataframe tbody tr th {\n",
       "        vertical-align: top;\n",
       "    }\n",
       "\n",
       "    .dataframe thead th {\n",
       "        text-align: right;\n",
       "    }\n",
       "</style>\n",
       "<table border=\"1\" class=\"dataframe\">\n",
       "  <thead>\n",
       "    <tr style=\"text-align: right;\">\n",
       "      <th></th>\n",
       "      <th>Country</th>\n",
       "      <th>Year</th>\n",
       "      <th>Total Water Consumption (Billion Cubic Meters)</th>\n",
       "      <th>Per Capita Water Use (Liters per Day)</th>\n",
       "      <th>Water Scarcity Level</th>\n",
       "      <th>Agricultural Water Use (%)</th>\n",
       "      <th>Industrial Water Use (%)</th>\n",
       "      <th>Household Water Use (%)</th>\n",
       "      <th>Rainfall Impact (Annual Precipitation in mm)</th>\n",
       "      <th>Groundwater Depletion Rate (%)</th>\n",
       "    </tr>\n",
       "  </thead>\n",
       "  <tbody>\n",
       "    <tr>\n",
       "      <th>0</th>\n",
       "      <td>Indonesia</td>\n",
       "      <td>2022</td>\n",
       "      <td>895.15</td>\n",
       "      <td>489.73</td>\n",
       "      <td>Low</td>\n",
       "      <td>20.78</td>\n",
       "      <td>13.75</td>\n",
       "      <td>34.99</td>\n",
       "      <td>1075.28</td>\n",
       "      <td>3.10</td>\n",
       "    </tr>\n",
       "    <tr>\n",
       "      <th>1</th>\n",
       "      <td>Indonesia</td>\n",
       "      <td>2024</td>\n",
       "      <td>502.89</td>\n",
       "      <td>311.95</td>\n",
       "      <td>High</td>\n",
       "      <td>48.51</td>\n",
       "      <td>8.44</td>\n",
       "      <td>32.88</td>\n",
       "      <td>2630.69</td>\n",
       "      <td>1.78</td>\n",
       "    </tr>\n",
       "    <tr>\n",
       "      <th>2</th>\n",
       "      <td>Spain</td>\n",
       "      <td>2000</td>\n",
       "      <td>843.39</td>\n",
       "      <td>440.09</td>\n",
       "      <td>Medium</td>\n",
       "      <td>25.16</td>\n",
       "      <td>31.70</td>\n",
       "      <td>34.62</td>\n",
       "      <td>2860.62</td>\n",
       "      <td>4.13</td>\n",
       "    </tr>\n",
       "    <tr>\n",
       "      <th>3</th>\n",
       "      <td>Canada</td>\n",
       "      <td>2021</td>\n",
       "      <td>803.34</td>\n",
       "      <td>478.98</td>\n",
       "      <td>High</td>\n",
       "      <td>45.74</td>\n",
       "      <td>6.13</td>\n",
       "      <td>18.99</td>\n",
       "      <td>1725.50</td>\n",
       "      <td>0.61</td>\n",
       "    </tr>\n",
       "    <tr>\n",
       "      <th>4</th>\n",
       "      <td>Brazil</td>\n",
       "      <td>2022</td>\n",
       "      <td>416.40</td>\n",
       "      <td>353.91</td>\n",
       "      <td>High</td>\n",
       "      <td>26.58</td>\n",
       "      <td>7.95</td>\n",
       "      <td>31.11</td>\n",
       "      <td>988.44</td>\n",
       "      <td>0.80</td>\n",
       "    </tr>\n",
       "  </tbody>\n",
       "</table>\n",
       "</div>"
      ],
      "text/plain": [
       "     Country  Year  Total Water Consumption (Billion Cubic Meters)  \\\n",
       "0  Indonesia  2022                                          895.15   \n",
       "1  Indonesia  2024                                          502.89   \n",
       "2      Spain  2000                                          843.39   \n",
       "3     Canada  2021                                          803.34   \n",
       "4     Brazil  2022                                          416.40   \n",
       "\n",
       "   Per Capita Water Use (Liters per Day) Water Scarcity Level  \\\n",
       "0                                 489.73                  Low   \n",
       "1                                 311.95                 High   \n",
       "2                                 440.09               Medium   \n",
       "3                                 478.98                 High   \n",
       "4                                 353.91                 High   \n",
       "\n",
       "   Agricultural Water Use (%)  Industrial Water Use (%)  \\\n",
       "0                       20.78                     13.75   \n",
       "1                       48.51                      8.44   \n",
       "2                       25.16                     31.70   \n",
       "3                       45.74                      6.13   \n",
       "4                       26.58                      7.95   \n",
       "\n",
       "   Household Water Use (%)  Rainfall Impact (Annual Precipitation in mm)  \\\n",
       "0                    34.99                                       1075.28   \n",
       "1                    32.88                                       2630.69   \n",
       "2                    34.62                                       2860.62   \n",
       "3                    18.99                                       1725.50   \n",
       "4                    31.11                                        988.44   \n",
       "\n",
       "   Groundwater Depletion Rate (%)  \n",
       "0                            3.10  \n",
       "1                            1.78  \n",
       "2                            4.13  \n",
       "3                            0.61  \n",
       "4                            0.80  "
      ]
     },
     "execution_count": 11,
     "metadata": {},
     "output_type": "execute_result"
    }
   ],
   "source": [
    "# query the data to get the first 5 rows \n",
    "conn.sql(\"SELECT * FROM water_data LIMIT 5\").fetchdf()\n"
   ]
  },
  {
   "cell_type": "markdown",
   "metadata": {},
   "source": [
    "The names of the columns are quite long and hence needs to be shortened for easy usage. "
   ]
  },
  {
   "cell_type": "code",
   "execution_count": 12,
   "metadata": {},
   "outputs": [
    {
     "data": {
      "text/html": [
       "<div>\n",
       "<style scoped>\n",
       "    .dataframe tbody tr th:only-of-type {\n",
       "        vertical-align: middle;\n",
       "    }\n",
       "\n",
       "    .dataframe tbody tr th {\n",
       "        vertical-align: top;\n",
       "    }\n",
       "\n",
       "    .dataframe thead th {\n",
       "        text-align: right;\n",
       "    }\n",
       "</style>\n",
       "<table border=\"1\" class=\"dataframe\">\n",
       "  <thead>\n",
       "    <tr style=\"text-align: right;\">\n",
       "      <th></th>\n",
       "      <th>country</th>\n",
       "      <th>year</th>\n",
       "      <th>total_water_consumption_bcm</th>\n",
       "      <th>per_capita_water_use_lpd</th>\n",
       "      <th>water_scarcity_level</th>\n",
       "      <th>agricultural_water_use_pct</th>\n",
       "      <th>industrial_water_use_pct</th>\n",
       "      <th>household_water_use_pct</th>\n",
       "      <th>rainfall_impact_mm</th>\n",
       "      <th>groundwater_depletion_rate_pct</th>\n",
       "    </tr>\n",
       "  </thead>\n",
       "  <tbody>\n",
       "    <tr>\n",
       "      <th>0</th>\n",
       "      <td>Spain</td>\n",
       "      <td>2000</td>\n",
       "      <td>843.39</td>\n",
       "      <td>440.09</td>\n",
       "      <td>Medium</td>\n",
       "      <td>25.16</td>\n",
       "      <td>31.70</td>\n",
       "      <td>34.62</td>\n",
       "      <td>2860.62</td>\n",
       "      <td>4.13</td>\n",
       "    </tr>\n",
       "    <tr>\n",
       "      <th>1</th>\n",
       "      <td>Indonesia</td>\n",
       "      <td>2000</td>\n",
       "      <td>485.84</td>\n",
       "      <td>419.38</td>\n",
       "      <td>Medium</td>\n",
       "      <td>31.49</td>\n",
       "      <td>25.18</td>\n",
       "      <td>13.70</td>\n",
       "      <td>1883.89</td>\n",
       "      <td>1.11</td>\n",
       "    </tr>\n",
       "    <tr>\n",
       "      <th>2</th>\n",
       "      <td>France</td>\n",
       "      <td>2000</td>\n",
       "      <td>613.43</td>\n",
       "      <td>417.64</td>\n",
       "      <td>Medium</td>\n",
       "      <td>77.75</td>\n",
       "      <td>13.71</td>\n",
       "      <td>23.43</td>\n",
       "      <td>2530.80</td>\n",
       "      <td>4.90</td>\n",
       "    </tr>\n",
       "    <tr>\n",
       "      <th>3</th>\n",
       "      <td>Spain</td>\n",
       "      <td>2000</td>\n",
       "      <td>61.53</td>\n",
       "      <td>362.74</td>\n",
       "      <td>Medium</td>\n",
       "      <td>33.22</td>\n",
       "      <td>19.40</td>\n",
       "      <td>11.23</td>\n",
       "      <td>1590.81</td>\n",
       "      <td>4.91</td>\n",
       "    </tr>\n",
       "    <tr>\n",
       "      <th>4</th>\n",
       "      <td>South Africa</td>\n",
       "      <td>2000</td>\n",
       "      <td>818.07</td>\n",
       "      <td>142.17</td>\n",
       "      <td>Low</td>\n",
       "      <td>64.77</td>\n",
       "      <td>18.07</td>\n",
       "      <td>36.31</td>\n",
       "      <td>291.64</td>\n",
       "      <td>4.96</td>\n",
       "    </tr>\n",
       "  </tbody>\n",
       "</table>\n",
       "</div>"
      ],
      "text/plain": [
       "        country  year  total_water_consumption_bcm  per_capita_water_use_lpd  \\\n",
       "0         Spain  2000                       843.39                    440.09   \n",
       "1     Indonesia  2000                       485.84                    419.38   \n",
       "2        France  2000                       613.43                    417.64   \n",
       "3         Spain  2000                        61.53                    362.74   \n",
       "4  South Africa  2000                       818.07                    142.17   \n",
       "\n",
       "  water_scarcity_level  agricultural_water_use_pct  industrial_water_use_pct  \\\n",
       "0               Medium                       25.16                     31.70   \n",
       "1               Medium                       31.49                     25.18   \n",
       "2               Medium                       77.75                     13.71   \n",
       "3               Medium                       33.22                     19.40   \n",
       "4                  Low                       64.77                     18.07   \n",
       "\n",
       "   household_water_use_pct  rainfall_impact_mm  groundwater_depletion_rate_pct  \n",
       "0                    34.62             2860.62                            4.13  \n",
       "1                    13.70             1883.89                            1.11  \n",
       "2                    23.43             2530.80                            4.90  \n",
       "3                    11.23             1590.81                            4.91  \n",
       "4                    36.31              291.64                            4.96  "
      ]
     },
     "execution_count": 12,
     "metadata": {},
     "output_type": "execute_result"
    }
   ],
   "source": [
    "# Rename columns for easier handling\n",
    "query = \"\"\"\n",
    "    SELECT \n",
    "        Country AS country,\n",
    "        Year AS year,\n",
    "        \"Total Water Consumption (Billion Cubic Meters)\" AS total_water_consumption_bcm,\n",
    "        \"Per Capita Water Use (Liters per Day)\" AS per_capita_water_use_lpd,\n",
    "        \"Water Scarcity Level\" AS water_scarcity_level,\n",
    "        \"Agricultural Water Use (%)\" AS agricultural_water_use_pct,\n",
    "        \"Industrial Water Use (%)\" AS industrial_water_use_pct,\n",
    "        \"Household Water Use (%)\" AS household_water_use_pct,\n",
    "        \"Rainfall Impact (Annual Precipitation in mm)\" AS rainfall_impact_mm,\n",
    "        \"Groundwater Depletion Rate (%)\" AS groundwater_depletion_rate_pct\n",
    "    FROM water_data\n",
    "    ORDER BY Year\n",
    "\"\"\"\n",
    "\n",
    "water_df = conn.sql(query=query).fetchdf()\n",
    "water_df.head()"
   ]
  },
  {
   "cell_type": "code",
   "execution_count": 47,
   "metadata": {},
   "outputs": [
    {
     "data": {
      "text/plain": [
       "┌───────┬──────────────┐\n",
       "│ Year  │ Observations │\n",
       "│ int64 │    int64     │\n",
       "├───────┼──────────────┤\n",
       "│  2000 │          172 │\n",
       "│  2001 │          199 │\n",
       "│  2002 │          212 │\n",
       "│  2003 │          202 │\n",
       "│  2004 │          190 │\n",
       "│  2005 │          196 │\n",
       "│  2006 │          169 │\n",
       "│  2007 │          217 │\n",
       "│  2008 │          191 │\n",
       "│  2009 │          185 │\n",
       "│    ·  │           ·  │\n",
       "│    ·  │           ·  │\n",
       "│    ·  │           ·  │\n",
       "│  2015 │          175 │\n",
       "│  2016 │          240 │\n",
       "│  2017 │          191 │\n",
       "│  2018 │          194 │\n",
       "│  2019 │          197 │\n",
       "│  2020 │          209 │\n",
       "│  2021 │          225 │\n",
       "│  2022 │          219 │\n",
       "│  2023 │          195 │\n",
       "│  2024 │          204 │\n",
       "├───────┴──────────────┤\n",
       "│  25 rows (20 shown)  │\n",
       "└──────────────────────┘"
      ]
     },
     "execution_count": 47,
     "metadata": {},
     "output_type": "execute_result"
    }
   ],
   "source": [
    "conn.sql(\n",
    "    \"\"\"\n",
    "    SELECT year , COUNT(*) AS Observations\n",
    "    FROM water_data \n",
    "    GROUP BY year\n",
    "    ORDER BY year\n",
    "    \"\"\"\n",
    ")"
   ]
  },
  {
   "cell_type": "code",
   "execution_count": 46,
   "metadata": {},
   "outputs": [
    {
     "data": {
      "text/plain": [
       "┌──────────────┬──────────────┐\n",
       "│   Country    │ Observations │\n",
       "│   varchar    │    int64     │\n",
       "├──────────────┼──────────────┤\n",
       "│ Argentina    │          260 │\n",
       "│ Australia    │          268 │\n",
       "│ Brazil       │          241 │\n",
       "│ Canada       │          250 │\n",
       "│ China        │          252 │\n",
       "│ France       │          248 │\n",
       "│ Germany      │          237 │\n",
       "│ India        │          241 │\n",
       "│ Indonesia    │          240 │\n",
       "│ Italy        │          252 │\n",
       "│ Japan        │          211 │\n",
       "│ Mexico       │          230 │\n",
       "│ Russia       │          266 │\n",
       "│ Saudi Arabia │          276 │\n",
       "│ South Africa │          273 │\n",
       "│ South Korea  │          245 │\n",
       "│ Spain        │          241 │\n",
       "│ Turkey       │          269 │\n",
       "│ UK           │          237 │\n",
       "│ USA          │          263 │\n",
       "├──────────────┴──────────────┤\n",
       "│ 20 rows           2 columns │\n",
       "└─────────────────────────────┘"
      ]
     },
     "execution_count": 46,
     "metadata": {},
     "output_type": "execute_result"
    }
   ],
   "source": [
    "conn.sql(\n",
    "    \"\"\"\n",
    "    SELECT country , COUNT(*) as Observations\n",
    "    FROM water_data \n",
    "    GROUP BY country\n",
    "    ORDER BY country\n",
    "    \"\"\"\n",
    ")"
   ]
  },
  {
   "cell_type": "markdown",
   "metadata": {},
   "source": [
    "So, each year has a different set of observations. Also, the number of observations for each country is not the same. "
   ]
  },
  {
   "cell_type": "code",
   "execution_count": 45,
   "metadata": {},
   "outputs": [
    {
     "data": {
      "text/plain": [
       "┌───────────┬───────┬──────────────┐\n",
       "│  Country  │ Year  │ Observations │\n",
       "│  varchar  │ int64 │    int64     │\n",
       "├───────────┼───────┼──────────────┤\n",
       "│ Argentina │  2000 │            7 │\n",
       "│ Argentina │  2001 │           10 │\n",
       "│ Argentina │  2002 │           13 │\n",
       "│ Argentina │  2003 │           15 │\n",
       "│ Argentina │  2004 │            5 │\n",
       "│ Argentina │  2005 │           10 │\n",
       "│ Argentina │  2006 │            6 │\n",
       "│ Argentina │  2007 │            4 │\n",
       "│ Argentina │  2008 │           10 │\n",
       "│ Argentina │  2009 │            6 │\n",
       "│  ·        │    ·  │            · │\n",
       "│  ·        │    ·  │            · │\n",
       "│  ·        │    ·  │            · │\n",
       "│ USA       │  2015 │           14 │\n",
       "│ USA       │  2016 │           10 │\n",
       "│ USA       │  2017 │           10 │\n",
       "│ USA       │  2018 │            6 │\n",
       "│ USA       │  2019 │           16 │\n",
       "│ USA       │  2020 │           10 │\n",
       "│ USA       │  2021 │           10 │\n",
       "│ USA       │  2022 │           10 │\n",
       "│ USA       │  2023 │            8 │\n",
       "│ USA       │  2024 │           10 │\n",
       "├───────────┴───────┴──────────────┤\n",
       "│ 500 rows (20 shown)    3 columns │\n",
       "└──────────────────────────────────┘"
      ]
     },
     "execution_count": 45,
     "metadata": {},
     "output_type": "execute_result"
    }
   ],
   "source": [
    "conn.sql(\n",
    "    \"\"\"\n",
    "    SELECT country , year,  COUNT(*) AS Observations\n",
    "    FROM water_data \n",
    "    GROUP BY year, country\n",
    "    ORDER BY country, year\n",
    "    \"\"\"\n",
    ")"
   ]
  },
  {
   "cell_type": "markdown",
   "metadata": {},
   "source": [
    "Note, the number of observations for each country for a particular year is also not the same."
   ]
  },
  {
   "cell_type": "code",
   "execution_count": 44,
   "metadata": {},
   "outputs": [
    {
     "data": {
      "text/plain": [
       "┌──────────────┐\n",
       "│   Country    │\n",
       "│   varchar    │\n",
       "├──────────────┤\n",
       "│ Indonesia    │\n",
       "│ France       │\n",
       "│ Italy        │\n",
       "│ Russia       │\n",
       "│ South Korea  │\n",
       "│ India        │\n",
       "│ UK           │\n",
       "│ Australia    │\n",
       "│ Saudi Arabia │\n",
       "│ Spain        │\n",
       "│ China        │\n",
       "│ Brazil       │\n",
       "│ Germany      │\n",
       "│ Turkey       │\n",
       "│ South Africa │\n",
       "│ Canada       │\n",
       "│ Argentina    │\n",
       "│ Mexico       │\n",
       "│ USA          │\n",
       "│ Japan        │\n",
       "├──────────────┤\n",
       "│   20 rows    │\n",
       "└──────────────┘"
      ]
     },
     "execution_count": 44,
     "metadata": {},
     "output_type": "execute_result"
    }
   ],
   "source": [
    "# the distinct names of the countries \n",
    "\n",
    "conn.sql(\n",
    "    \"\"\"\n",
    "    SELECT DISTINCT(country) FROM water_data\n",
    "    \"\"\"\n",
    ")"
   ]
  },
  {
   "cell_type": "code",
   "execution_count": 49,
   "metadata": {},
   "outputs": [
    {
     "data": {
      "text/plain": [
       "┌────────────┐\n",
       "│    Year    │\n",
       "│   int64    │\n",
       "├────────────┤\n",
       "│       2000 │\n",
       "│       2001 │\n",
       "│       2002 │\n",
       "│       2003 │\n",
       "│       2004 │\n",
       "│       2005 │\n",
       "│       2006 │\n",
       "│       2007 │\n",
       "│       2008 │\n",
       "│       2009 │\n",
       "│         ·  │\n",
       "│         ·  │\n",
       "│         ·  │\n",
       "│       2015 │\n",
       "│       2016 │\n",
       "│       2017 │\n",
       "│       2018 │\n",
       "│       2019 │\n",
       "│       2020 │\n",
       "│       2021 │\n",
       "│       2022 │\n",
       "│       2023 │\n",
       "│       2024 │\n",
       "├────────────┤\n",
       "│  25 rows   │\n",
       "│ (20 shown) │\n",
       "└────────────┘"
      ]
     },
     "execution_count": 49,
     "metadata": {},
     "output_type": "execute_result"
    }
   ],
   "source": [
    "# the distinct years \n",
    "\n",
    "conn.sql(\n",
    "    \"\"\"\n",
    "    SELECT DISTINCT(year) FROM water_data ORDER BY year\n",
    "    \"\"\"\n",
    ")"
   ]
  },
  {
   "cell_type": "code",
   "execution_count": 50,
   "metadata": {},
   "outputs": [
    {
     "name": "stdout",
     "output_type": "stream",
     "text": [
      "<class 'pandas.core.frame.DataFrame'>\n",
      "RangeIndex: 5000 entries, 0 to 4999\n",
      "Data columns (total 10 columns):\n",
      " #   Column                          Non-Null Count  Dtype  \n",
      "---  ------                          --------------  -----  \n",
      " 0   country                         5000 non-null   object \n",
      " 1   year                            5000 non-null   int64  \n",
      " 2   total_water_consumption_bcm     5000 non-null   float64\n",
      " 3   per_capita_water_use_lpd        5000 non-null   float64\n",
      " 4   water_scarcity_level            5000 non-null   object \n",
      " 5   agricultural_water_use_pct      5000 non-null   float64\n",
      " 6   industrial_water_use_pct        5000 non-null   float64\n",
      " 7   household_water_use_pct         5000 non-null   float64\n",
      " 8   rainfall_impact_mm              5000 non-null   float64\n",
      " 9   groundwater_depletion_rate_pct  5000 non-null   float64\n",
      "dtypes: float64(7), int64(1), object(2)\n",
      "memory usage: 390.8+ KB\n"
     ]
    }
   ],
   "source": [
    "# get info\n",
    "water_df.info()"
   ]
  },
  {
   "cell_type": "markdown",
   "metadata": {},
   "source": [
    "There is no null values inside the dataset."
   ]
  },
  {
   "cell_type": "code",
   "execution_count": 51,
   "metadata": {},
   "outputs": [],
   "source": [
    "# let us save the renamed dataset \n",
    "conn.sql(query=query).write_csv('../Data/renamed_global_water_consumption.csv')"
   ]
  },
  {
   "cell_type": "code",
   "execution_count": 52,
   "metadata": {},
   "outputs": [],
   "source": [
    "conn.close()"
   ]
  }
 ],
 "metadata": {
  "kernelspec": {
   "display_name": "Python 3",
   "language": "python",
   "name": "python3"
  },
  "language_info": {
   "codemirror_mode": {
    "name": "ipython",
    "version": 3
   },
   "file_extension": ".py",
   "mimetype": "text/x-python",
   "name": "python",
   "nbconvert_exporter": "python",
   "pygments_lexer": "ipython3",
   "version": "3.13.2"
  }
 },
 "nbformat": 4,
 "nbformat_minor": 2
}
